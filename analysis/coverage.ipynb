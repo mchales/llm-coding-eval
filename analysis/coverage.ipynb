{
 "cells": [
  {
   "cell_type": "code",
   "execution_count": 1,
   "metadata": {},
   "outputs": [],
   "source": [
    "# Further analysis of the humaneval coding benchmark\n",
    "import pandas as pd"
   ]
  },
  {
   "cell_type": "code",
   "execution_count": 2,
   "metadata": {},
   "outputs": [],
   "source": [
    "attempt_df = pd.read_json('../human-eval/data/attempt/attempt_samples_all.jsonl_results.jsonl', lines=True)\n",
    "mistake_df = pd.read_json('../human-eval/data/mistake/mistake_samples_all.jsonl_results.jsonl', lines=True)\n",
    "use_attemtpt_df = pd.read_json('../human-eval/data/use_attempt/use_attempt_samples_all.jsonl_results.jsonl', lines=True)\n",
    "use_mistake_df = pd.read_json('../human-eval/data/use_mistake/use_mistake_samples_all.jsonl_results.jsonl', lines=True)"
   ]
  },
  {
   "cell_type": "code",
   "execution_count": 3,
   "metadata": {},
   "outputs": [
    {
     "data": {
      "text/html": [
       "<div>\n",
       "<style scoped>\n",
       "    .dataframe tbody tr th:only-of-type {\n",
       "        vertical-align: middle;\n",
       "    }\n",
       "\n",
       "    .dataframe tbody tr th {\n",
       "        vertical-align: top;\n",
       "    }\n",
       "\n",
       "    .dataframe thead th {\n",
       "        text-align: right;\n",
       "    }\n",
       "</style>\n",
       "<table border=\"1\" class=\"dataframe\">\n",
       "  <thead>\n",
       "    <tr style=\"text-align: right;\">\n",
       "      <th></th>\n",
       "      <th>task_id</th>\n",
       "      <th>completion</th>\n",
       "      <th>result</th>\n",
       "      <th>passed</th>\n",
       "    </tr>\n",
       "  </thead>\n",
       "  <tbody>\n",
       "    <tr>\n",
       "      <th>0</th>\n",
       "      <td>HumanEval/0</td>\n",
       "      <td>for i in range(len(numbers)):\\n        for...</td>\n",
       "      <td>passed</td>\n",
       "      <td>True</td>\n",
       "    </tr>\n",
       "    <tr>\n",
       "      <th>1</th>\n",
       "      <td>HumanEval/0</td>\n",
       "      <td>for i in range(len(numbers)):\\n        for...</td>\n",
       "      <td>passed</td>\n",
       "      <td>True</td>\n",
       "    </tr>\n",
       "    <tr>\n",
       "      <th>2</th>\n",
       "      <td>HumanEval/0</td>\n",
       "      <td>for i in range(len(numbers)):\\n        for...</td>\n",
       "      <td>passed</td>\n",
       "      <td>True</td>\n",
       "    </tr>\n",
       "    <tr>\n",
       "      <th>3</th>\n",
       "      <td>HumanEval/0</td>\n",
       "      <td>for i in range(len(numbers)):\\n        for...</td>\n",
       "      <td>passed</td>\n",
       "      <td>True</td>\n",
       "    </tr>\n",
       "    <tr>\n",
       "      <th>4</th>\n",
       "      <td>HumanEval/0</td>\n",
       "      <td>for i in range(len(numbers)):\\n        for...</td>\n",
       "      <td>passed</td>\n",
       "      <td>True</td>\n",
       "    </tr>\n",
       "  </tbody>\n",
       "</table>\n",
       "</div>"
      ],
      "text/plain": [
       "       task_id                                         completion  result  \\\n",
       "0  HumanEval/0      for i in range(len(numbers)):\\n        for...  passed   \n",
       "1  HumanEval/0      for i in range(len(numbers)):\\n        for...  passed   \n",
       "2  HumanEval/0      for i in range(len(numbers)):\\n        for...  passed   \n",
       "3  HumanEval/0      for i in range(len(numbers)):\\n        for...  passed   \n",
       "4  HumanEval/0      for i in range(len(numbers)):\\n        for...  passed   \n",
       "\n",
       "   passed  \n",
       "0    True  \n",
       "1    True  \n",
       "2    True  \n",
       "3    True  \n",
       "4    True  "
      ]
     },
     "execution_count": 3,
     "metadata": {},
     "output_type": "execute_result"
    }
   ],
   "source": [
    "attempt_df.head()"
   ]
  },
  {
   "cell_type": "code",
   "execution_count": 4,
   "metadata": {},
   "outputs": [],
   "source": [
    "def any_passed_df(df):\n",
    "\n",
    "    task_df = df.groupby('task_id')['passed'].any().reset_index()\n",
    "    # Rename the 'passed' column to 'any_passed'\n",
    "\n",
    "    return task_df"
   ]
  },
  {
   "cell_type": "code",
   "execution_count": 20,
   "metadata": {},
   "outputs": [],
   "source": [
    "attempt_tasks_df = any_passed_df(attempt_df)\n",
    "mistake_tasks_df = any_passed_df(mistake_df)\n",
    "use_attemtpt_tasks_df = any_passed_df(use_attemtpt_df)\n",
    "use_mistake_tasks_df = any_passed_df(use_mistake_df)"
   ]
  },
  {
   "cell_type": "code",
   "execution_count": 9,
   "metadata": {},
   "outputs": [
    {
     "data": {
      "text/html": [
       "<div>\n",
       "<style scoped>\n",
       "    .dataframe tbody tr th:only-of-type {\n",
       "        vertical-align: middle;\n",
       "    }\n",
       "\n",
       "    .dataframe tbody tr th {\n",
       "        vertical-align: top;\n",
       "    }\n",
       "\n",
       "    .dataframe thead th {\n",
       "        text-align: right;\n",
       "    }\n",
       "</style>\n",
       "<table border=\"1\" class=\"dataframe\">\n",
       "  <thead>\n",
       "    <tr style=\"text-align: right;\">\n",
       "      <th></th>\n",
       "      <th>task_id</th>\n",
       "      <th>passed</th>\n",
       "    </tr>\n",
       "  </thead>\n",
       "  <tbody>\n",
       "    <tr>\n",
       "      <th>0</th>\n",
       "      <td>HumanEval/0</td>\n",
       "      <td>True</td>\n",
       "    </tr>\n",
       "    <tr>\n",
       "      <th>1</th>\n",
       "      <td>HumanEval/1</td>\n",
       "      <td>True</td>\n",
       "    </tr>\n",
       "    <tr>\n",
       "      <th>2</th>\n",
       "      <td>HumanEval/10</td>\n",
       "      <td>True</td>\n",
       "    </tr>\n",
       "    <tr>\n",
       "      <th>3</th>\n",
       "      <td>HumanEval/100</td>\n",
       "      <td>True</td>\n",
       "    </tr>\n",
       "    <tr>\n",
       "      <th>4</th>\n",
       "      <td>HumanEval/101</td>\n",
       "      <td>True</td>\n",
       "    </tr>\n",
       "  </tbody>\n",
       "</table>\n",
       "</div>"
      ],
      "text/plain": [
       "         task_id  passed\n",
       "0    HumanEval/0    True\n",
       "1    HumanEval/1    True\n",
       "2   HumanEval/10    True\n",
       "3  HumanEval/100    True\n",
       "4  HumanEval/101    True"
      ]
     },
     "execution_count": 9,
     "metadata": {},
     "output_type": "execute_result"
    }
   ],
   "source": [
    "attempt_tasks_df.head()"
   ]
  },
  {
   "cell_type": "code",
   "execution_count": 6,
   "metadata": {},
   "outputs": [
    {
     "name": "stdout",
     "output_type": "stream",
     "text": [
      "passed\n",
      "True     146\n",
      "False     18\n",
      "Name: count, dtype: int64\n",
      "-------------\n",
      "passed\n",
      "True     150\n",
      "False     14\n",
      "Name: count, dtype: int64\n"
     ]
    }
   ],
   "source": [
    "print(attempt_tasks_df[\"passed\"].value_counts())\n",
    "print(\"-------------\")\n",
    "print(use_mistake_tasks_df[\"passed\"].value_counts())"
   ]
  },
  {
   "cell_type": "code",
   "execution_count": 23,
   "metadata": {},
   "outputs": [
    {
     "name": "stdout",
     "output_type": "stream",
     "text": [
      "          task_id  passed_attempt  passed_use_mistake\n",
      "0   HumanEval/108           False               False\n",
      "1   HumanEval/115           False                True\n",
      "2   HumanEval/119           False               False\n",
      "3   HumanEval/125           False               False\n",
      "4   HumanEval/130           False               False\n",
      "5   HumanEval/132           False               False\n",
      "6   HumanEval/133           False                True\n",
      "7   HumanEval/135           False                True\n",
      "8   HumanEval/140           False                True\n",
      "9   HumanEval/145           False               False\n",
      "10  HumanEval/151           False                True\n",
      "11  HumanEval/163           False               False\n",
      "12   HumanEval/36           False                True\n",
      "13   HumanEval/41           False                True\n",
      "14    HumanEval/6           False                True\n",
      "15   HumanEval/81           False                True\n",
      "16   HumanEval/84           False                True\n",
      "17   HumanEval/93           False                True\n",
      "18  HumanEval/110            True               False\n",
      "19  HumanEval/120            True               False\n",
      "20  HumanEval/126            True               False\n",
      "21  HumanEval/129            True               False\n",
      "22  HumanEval/137            True               False\n",
      "23   HumanEval/32            True               False\n",
      "24   HumanEval/39            True               False\n"
     ]
    }
   ],
   "source": [
    "# Filter rows where 'passed' is False\n",
    "attempt_false = attempt_tasks_df[attempt_tasks_df['passed'] == False]\n",
    "use_mistake_false = use_mistake_tasks_df[use_mistake_tasks_df['passed'] == False]\n",
    "\n",
    "attempt_false = attempt_false.rename(columns={'passed': 'passed_attempt'})\n",
    "use_mistake_false = use_mistake_false.rename(columns={'passed': 'passed_use_mistake'})\n",
    "\n",
    "# Merging the dataframes\n",
    "merged = pd.merge(attempt_false, use_mistake_false, on='task_id', how='outer')\n",
    "\n",
    "# Fill NaN values with True\n",
    "merged['passed_attempt'].fillna(True, inplace=True)\n",
    "merged['passed_use_mistake'].fillna(True, inplace=True)\n",
    "\n",
    "# Display the resulting dataframe\n",
    "print(merged)"
   ]
  }
 ],
 "metadata": {
  "kernelspec": {
   "display_name": "random",
   "language": "python",
   "name": "python3"
  },
  "language_info": {
   "codemirror_mode": {
    "name": "ipython",
    "version": 3
   },
   "file_extension": ".py",
   "mimetype": "text/x-python",
   "name": "python",
   "nbconvert_exporter": "python",
   "pygments_lexer": "ipython3",
   "version": "3.9.18"
  }
 },
 "nbformat": 4,
 "nbformat_minor": 2
}
