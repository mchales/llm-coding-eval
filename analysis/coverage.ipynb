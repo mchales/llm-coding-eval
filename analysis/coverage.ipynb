{
 "cells": [
  {
   "cell_type": "code",
   "execution_count": 1,
   "metadata": {},
   "outputs": [],
   "source": [
    "# Further analysis of the humaneval coding benchmark\n",
    "import pandas as pd"
   ]
  },
  {
   "cell_type": "code",
   "execution_count": 20,
   "metadata": {},
   "outputs": [],
   "source": [
    "attempt_df = pd.read_json('../human-eval/data/attempt/attempt_samples_all.jsonl_results.jsonl', lines=True)\n",
    "mistake_df = pd.read_json('../human-eval/data/mistake/mistake_samples_all.jsonl_results.jsonl', lines=True)\n",
    "use_attemtpt_df = pd.read_json('../human-eval/data/use_attempt/use_attempt_samples_all.jsonl_results.jsonl', lines=True)\n",
    "use_mistake_df = pd.read_json('../human-eval/data/use_mistake/use_mistake_samples_all.jsonl_results.jsonl', lines=True)"
   ]
  },
  {
   "cell_type": "code",
   "execution_count": 11,
   "metadata": {},
   "outputs": [
    {
     "data": {
      "text/html": [
       "<div>\n",
       "<style scoped>\n",
       "    .dataframe tbody tr th:only-of-type {\n",
       "        vertical-align: middle;\n",
       "    }\n",
       "\n",
       "    .dataframe tbody tr th {\n",
       "        vertical-align: top;\n",
       "    }\n",
       "\n",
       "    .dataframe thead th {\n",
       "        text-align: right;\n",
       "    }\n",
       "</style>\n",
       "<table border=\"1\" class=\"dataframe\">\n",
       "  <thead>\n",
       "    <tr style=\"text-align: right;\">\n",
       "      <th></th>\n",
       "      <th>task_id</th>\n",
       "      <th>completion</th>\n",
       "      <th>result</th>\n",
       "      <th>passed</th>\n",
       "    </tr>\n",
       "  </thead>\n",
       "  <tbody>\n",
       "    <tr>\n",
       "      <th>0</th>\n",
       "      <td>HumanEval/0</td>\n",
       "      <td>for i in range(len(numbers)):\\n        for...</td>\n",
       "      <td>passed</td>\n",
       "      <td>True</td>\n",
       "    </tr>\n",
       "    <tr>\n",
       "      <th>1</th>\n",
       "      <td>HumanEval/0</td>\n",
       "      <td>for i in range(len(numbers)):\\n        for...</td>\n",
       "      <td>passed</td>\n",
       "      <td>True</td>\n",
       "    </tr>\n",
       "    <tr>\n",
       "      <th>2</th>\n",
       "      <td>HumanEval/0</td>\n",
       "      <td>for i in range(len(numbers)):\\n        for...</td>\n",
       "      <td>passed</td>\n",
       "      <td>True</td>\n",
       "    </tr>\n",
       "    <tr>\n",
       "      <th>3</th>\n",
       "      <td>HumanEval/0</td>\n",
       "      <td>for i in range(len(numbers)):\\n        for...</td>\n",
       "      <td>passed</td>\n",
       "      <td>True</td>\n",
       "    </tr>\n",
       "    <tr>\n",
       "      <th>4</th>\n",
       "      <td>HumanEval/0</td>\n",
       "      <td>for i in range(len(numbers)):\\n        for...</td>\n",
       "      <td>passed</td>\n",
       "      <td>True</td>\n",
       "    </tr>\n",
       "  </tbody>\n",
       "</table>\n",
       "</div>"
      ],
      "text/plain": [
       "       task_id                                         completion  result  \\\n",
       "0  HumanEval/0      for i in range(len(numbers)):\\n        for...  passed   \n",
       "1  HumanEval/0      for i in range(len(numbers)):\\n        for...  passed   \n",
       "2  HumanEval/0      for i in range(len(numbers)):\\n        for...  passed   \n",
       "3  HumanEval/0      for i in range(len(numbers)):\\n        for...  passed   \n",
       "4  HumanEval/0      for i in range(len(numbers)):\\n        for...  passed   \n",
       "\n",
       "   passed  \n",
       "0    True  \n",
       "1    True  \n",
       "2    True  \n",
       "3    True  \n",
       "4    True  "
      ]
     },
     "execution_count": 11,
     "metadata": {},
     "output_type": "execute_result"
    }
   ],
   "source": [
    "attempt_df.head()"
   ]
  },
  {
   "cell_type": "code",
   "execution_count": 19,
   "metadata": {},
   "outputs": [],
   "source": [
    "def any_passed_df(df):\n",
    "\n",
    "    task_df = df.groupby('task_id')['passed'].any().reset_index()\n",
    "    # Rename the 'passed' column to 'any_passed'\n",
    "\n",
    "    return task_df"
   ]
  },
  {
   "cell_type": "code",
   "execution_count": 21,
   "metadata": {},
   "outputs": [],
   "source": [
    "attempt__tasks_df = any_passed_df(attempt_df)\n",
    "mistake_tasks_df = any_passed_df(mistake_df)\n",
    "use_attemtpt_tasks_df = any_passed_df(use_attemtpt_df)\n",
    "use_mistake_tasks_df = any_passed_df(use_mistake_df)"
   ]
  },
  {
   "cell_type": "code",
   "execution_count": 28,
   "metadata": {},
   "outputs": [
    {
     "name": "stdout",
     "output_type": "stream",
     "text": [
      "passed\n",
      "True     146\n",
      "False     18\n",
      "Name: count, dtype: int64\n",
      "-------------\n",
      "passed\n",
      "True     150\n",
      "False     14\n",
      "Name: count, dtype: int64\n"
     ]
    }
   ],
   "source": [
    "print(attempt__tasks_df[\"passed\"].value_counts())\n",
    "print(\"-------------\")\n",
    "print(use_mistake_tasks_df[\"passed\"].value_counts())"
   ]
  },
  {
   "cell_type": "code",
   "execution_count": 26,
   "metadata": {},
   "outputs": [
    {
     "data": {
      "text/plain": [
       "passed\n",
       "True     150\n",
       "False     14\n",
       "Name: count, dtype: int64"
      ]
     },
     "execution_count": 26,
     "metadata": {},
     "output_type": "execute_result"
    }
   ],
   "source": [
    "# See if any of the tasks attempt passed use_mistake failed\n"
   ]
  },
  {
   "cell_type": "code",
   "execution_count": null,
   "metadata": {},
   "outputs": [],
   "source": []
  }
 ],
 "metadata": {
  "kernelspec": {
   "display_name": "random",
   "language": "python",
   "name": "python3"
  },
  "language_info": {
   "codemirror_mode": {
    "name": "ipython",
    "version": 3
   },
   "file_extension": ".py",
   "mimetype": "text/x-python",
   "name": "python",
   "nbconvert_exporter": "python",
   "pygments_lexer": "ipython3",
   "version": "3.10.13"
  }
 },
 "nbformat": 4,
 "nbformat_minor": 2
}
