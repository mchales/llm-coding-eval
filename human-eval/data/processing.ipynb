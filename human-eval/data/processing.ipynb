{
 "cells": [
  {
   "cell_type": "code",
   "execution_count": 25,
   "metadata": {},
   "outputs": [],
   "source": [
    "import pandas as pd\n",
    "import numpy as np\n",
    "import json\n",
    "import os"
   ]
  },
  {
   "cell_type": "code",
   "execution_count": 30,
   "metadata": {},
   "outputs": [],
   "source": [
    "PATHS = {'python-saga-attempt': 'python_saga/attempt/attempt_samples.jsonl_results.jsonl', 'python-saga-mistake': 'python_saga/mistake/mistake_samples.jsonl_results.jsonl',\n",
    "         'python-saga-use-attempt': 'python_saga/use_attempt/use_attempt_samples.jsonl_results.jsonl', 'python-saga-use-mistake': 'python_saga/use_mistake/use_mistake_samples.jsonl_results.jsonl'}\n",
    "PATH = 'python_saga'\n",
    "DATASET='PythonSaga'"
   ]
  },
  {
   "cell_type": "code",
   "execution_count": 24,
   "metadata": {},
   "outputs": [],
   "source": [
    "def load_jsonl(file_path):\n",
    "    data = []\n",
    "    with open(file_path, 'r') as file:\n",
    "        for line in file:\n",
    "            data.append(json.loads(line))\n",
    "    return pd.DataFrame(data)\n",
    "dfs = {}\n",
    "# Example usage:\n",
    "for key, val in PATHS.items():\n",
    "    dfs[key] = load_jsonl(val)"
   ]
  },
  {
   "cell_type": "code",
   "execution_count": 36,
   "metadata": {},
   "outputs": [],
   "source": [
    "# Get all the incorrect results and store in a csv\n",
    "total = set(DATASET + '/' + str(i) for i in range(185))\n",
    "for key, val in dfs.items():\n",
    "    corr = set(val[val['passed']]['task_id'])\n",
    "    wrong = total - corr\n",
    "    wrong_df = val[val['task_id'].isin(wrong)]\n",
    "    wrong_df.to_csv(os.path.join(PATH, key + \"-incorrect\")+ '.csv', index=False)\n"
   ]
  }
 ],
 "metadata": {
  "kernelspec": {
   "display_name": "base",
   "language": "python",
   "name": "python3"
  },
  "language_info": {
   "codemirror_mode": {
    "name": "ipython",
    "version": 3
   },
   "file_extension": ".py",
   "mimetype": "text/x-python",
   "name": "python",
   "nbconvert_exporter": "python",
   "pygments_lexer": "ipython3",
   "version": "3.11.5"
  }
 },
 "nbformat": 4,
 "nbformat_minor": 2
}
